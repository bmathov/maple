{
 "cells": [
  {
   "cell_type": "code",
   "execution_count": 2,
   "metadata": {},
   "outputs": [],
   "source": [
    "import random\n",
    "import numpy"
   ]
  },
  {
   "cell_type": "code",
   "execution_count": 3,
   "metadata": {},
   "outputs": [],
   "source": [
    "def sim(slots,chance,goal,runs):\n",
    "    total=0\n",
    "    numruns=0\n",
    "    goalmarker=0\n",
    "    for i in range(runs):\n",
    "        count=0\n",
    "        for j in range(slots):\n",
    "            x=random.random()\n",
    "            if x<chance:\n",
    "                count+=1\n",
    "            #print(count)\n",
    "        if count>=goal:\n",
    "            goalmarker+=1\n",
    "        total+=count\n",
    "        numruns+=1\n",
    "    #return total/numruns, goalmarker/runs\n",
    "    print('For %d upgrade slots at %d%% chance, the average number of successes is %.3f. \\\n",
    "You hit your goal of %d successes %.1f%% of the time.'%(slots, chance*100, total/numruns, goal, 100*goalmarker/runs))"
   ]
  },
  {
   "cell_type": "code",
   "execution_count": 36,
   "metadata": {
    "scrolled": true
   },
   "outputs": [
    {
     "name": "stdout",
     "output_type": "stream",
     "text": [
      "For 8 upgrade slots at 25% chance, the average number of successes is 2.011. You hit your goal of 4 successes 12.0% of the time.\n"
     ]
    }
   ],
   "source": [
    "sim(8,.25,4,10000)"
   ]
  },
  {
   "cell_type": "code",
   "execution_count": 5,
   "metadata": {},
   "outputs": [
    {
     "name": "stdout",
     "output_type": "stream",
     "text": [
      "For 7 upgrade slots at 45% chance, the average number of successes is 3.156. You hit your goal of 4 successes 39.2% of the time.\n"
     ]
    }
   ],
   "source": [
    "sim(7,.45,4,10000)"
   ]
  },
  {
   "cell_type": "code",
   "execution_count": 71,
   "metadata": {},
   "outputs": [],
   "source": [
    "def sim(slots,chance):\n",
    "    count=0\n",
    "    for j in range(slots):\n",
    "        x=random.random>\n",
    "        if x<chance:\n",
    "            count+=1\n",
    "        print(j)\n",
    "    return count"
   ]
  },
  {
   "cell_type": "code",
   "execution_count": null,
   "metadata": {},
   "outputs": [],
   "source": []
  }
 ],
 "metadata": {
  "kernelspec": {
   "display_name": "Python 3",
   "language": "python",
   "name": "python3"
  },
  "language_info": {
   "codemirror_mode": {
    "name": "ipython",
    "version": 3
   },
   "file_extension": ".py",
   "mimetype": "text/x-python",
   "name": "python",
   "nbconvert_exporter": "python",
   "pygments_lexer": "ipython3",
   "version": "3.8.5"
  }
 },
 "nbformat": 4,
 "nbformat_minor": 4
}
